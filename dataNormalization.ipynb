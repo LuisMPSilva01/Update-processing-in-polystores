{
 "cells": [
  {
   "cell_type": "code",
   "execution_count": 18,
   "metadata": {},
   "outputs": [
    {
     "name": "stdout",
     "output_type": "stream",
     "text": [
      "[{'name': 'Trincao', 'address': 'Lisboa', 'contact': ['trincao@gmail.com']}, {'name': 'Marega', 'address': 'Porto', 'contact': ['marega@gmail.com', 'portoMarega@gmail.com']}]\n"
     ]
    }
   ],
   "source": [
    "import pandas as pd\n",
    "import json\n",
    "\n",
    "with open('./MongoDb/Collections/Players.json') as f:\n",
    "    d = json.load(f)\n",
    "\n",
    "print(d)"
   ]
  },
  {
   "cell_type": "code",
   "execution_count": 37,
   "metadata": {},
   "outputs": [
    {
     "name": "stdout",
     "output_type": "stream",
     "text": [
      "[{'name': 'Marega', 'address': 'Porto'}, {'contact': {'Marega': ['marega@gmail.com', 'portoMarega@gmail.com']}}]\n"
     ]
    }
   ],
   "source": [
    "def transform_data(data):\n",
    "    main_dict = {}\n",
    "    complex_dicts = {}\n",
    "\n",
    "    for item in data:\n",
    "        for key, value in item.items():\n",
    "            if isinstance(value, (str, int)):\n",
    "                main_dict[key] = value\n",
    "            elif isinstance(value, list):\n",
    "                complex_dicts[key] = {item['name']: value}\n",
    "\n",
    "    return [main_dict, complex_dicts]\n",
    "\n",
    "\n",
    "\n",
    "\n",
    "transformed_data = transform_data(d)\n",
    "print(transformed_data)"
   ]
  },
  {
   "cell_type": "code",
   "execution_count": 23,
   "metadata": {},
   "outputs": [
    {
     "name": "stdout",
     "output_type": "stream",
     "text": [
      "      name address                                    contact\n",
      "0  Trincao  Lisboa                        [trincao@gmail.com]\n",
      "1   Marega   Porto  [marega@gmail.com, portoMarega@gmail.com]\n"
     ]
    }
   ],
   "source": [
    "df = pd.json_normalize(d)\n",
    "print(df.head())"
   ]
  },
  {
   "cell_type": "code",
   "execution_count": 26,
   "metadata": {},
   "outputs": [
    {
     "data": {
      "text/html": [
       "<div>\n",
       "<style scoped>\n",
       "    .dataframe tbody tr th:only-of-type {\n",
       "        vertical-align: middle;\n",
       "    }\n",
       "\n",
       "    .dataframe tbody tr th {\n",
       "        vertical-align: top;\n",
       "    }\n",
       "\n",
       "    .dataframe thead th {\n",
       "        text-align: right;\n",
       "    }\n",
       "</style>\n",
       "<table border=\"1\" class=\"dataframe\">\n",
       "  <thead>\n",
       "    <tr style=\"text-align: right;\">\n",
       "      <th></th>\n",
       "      <th>Prefix.0</th>\n",
       "    </tr>\n",
       "  </thead>\n",
       "  <tbody>\n",
       "    <tr>\n",
       "      <th>0</th>\n",
       "      <td>1</td>\n",
       "    </tr>\n",
       "    <tr>\n",
       "      <th>1</th>\n",
       "      <td>2</td>\n",
       "    </tr>\n",
       "  </tbody>\n",
       "</table>\n",
       "</div>"
      ],
      "text/plain": [
       "   Prefix.0\n",
       "0         1\n",
       "1         2"
      ]
     },
     "execution_count": 26,
     "metadata": {},
     "output_type": "execute_result"
    }
   ],
   "source": [
    "data = {\"A\": [1, 2]}\n",
    "pd.json_normalize(data, \"A\", record_prefix=\"Prefix.\")"
   ]
  }
 ],
 "metadata": {
  "kernelspec": {
   "display_name": "Python 3",
   "language": "python",
   "name": "python3"
  },
  "language_info": {
   "codemirror_mode": {
    "name": "ipython",
    "version": 3
   },
   "file_extension": ".py",
   "mimetype": "text/x-python",
   "name": "python",
   "nbconvert_exporter": "python",
   "pygments_lexer": "ipython3",
   "version": "3.10.12"
  }
 },
 "nbformat": 4,
 "nbformat_minor": 2
}
